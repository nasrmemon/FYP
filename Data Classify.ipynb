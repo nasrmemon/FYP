{
 "cells": [
  {
   "cell_type": "code",
   "execution_count": 1,
   "id": "09994e84",
   "metadata": {},
   "outputs": [
    {
     "name": "stdout",
     "output_type": "stream",
     "text": [
      "Classification Complete.\n"
     ]
    }
   ],
   "source": [
    "import os\n",
    "import shutil\n",
    "\n",
    "# Path to your dataset\n",
    "dataset_path = \"C:\\\\Users\\\\Nasr\\\\Desktop\\\\SEM 7\\\\FYP\\\\FYP DataSet\\\\Data\\\\DataSet Extracted\"\n",
    "\n",
    "# Categories based on the first section of the file name\n",
    "categories = {\n",
    "    \"G\": \"Genuine\",\n",
    "    \"Ps\": \"Still Printed Paper\",\n",
    "    \"Pq\": \"Quivering Printed Paper\",\n",
    "    \"Vl\": \"Lenovo LCD Display\",\n",
    "    \"Vm\": \"Mac LCD Display\",\n",
    "    \"Mc\": \"Paper Mask Cropped\",\n",
    "    \"Mf\": \"Paper Mask Full\",\n",
    "    \"Mu\": \"Paper Mask Upper Cut\",\n",
    "    \"Ml\": \"Paper Mask Lower Cut\"\n",
    "}\n",
    "\n",
    "# Creating directories for each category if they don't exist\n",
    "for category in categories.values():\n",
    "    category_path = os.path.join(dataset_path, category)\n",
    "    if not os.path.exists(category_path):\n",
    "        os.makedirs(category_path)\n",
    "\n",
    "# Classifying the videos\n",
    "for file in os.listdir(dataset_path):\n",
    "    if file.endswith(\".mp4\"):\n",
    "        category_key = file.split('_')[0]\n",
    "        category_name = categories.get(category_key, \"Unknown\")\n",
    "        shutil.move(os.path.join(dataset_path, file), os.path.join(dataset_path, category_name, file))\n",
    "\n",
    "print(\"Classification Complete.\")"
   ]
  },
  {
   "cell_type": "code",
   "execution_count": null,
   "id": "5c7fa897",
   "metadata": {},
   "outputs": [],
   "source": []
  }
 ],
 "metadata": {
  "kernelspec": {
   "display_name": "Python 3 (ipykernel)",
   "language": "python",
   "name": "python3"
  },
  "language_info": {
   "codemirror_mode": {
    "name": "ipython",
    "version": 3
   },
   "file_extension": ".py",
   "mimetype": "text/x-python",
   "name": "python",
   "nbconvert_exporter": "python",
   "pygments_lexer": "ipython3",
   "version": "3.9.13"
  }
 },
 "nbformat": 4,
 "nbformat_minor": 5
}
