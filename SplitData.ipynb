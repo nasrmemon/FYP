{
 "cells": [
  {
   "cell_type": "code",
   "execution_count": 10,
   "metadata": {},
   "outputs": [],
   "source": [
    "import os\n",
    "import random\n",
    "import shutil\n",
    "from itertools import islice\n",
    "import tqdm"
   ]
  },
  {
   "cell_type": "code",
   "execution_count": 13,
   "metadata": {},
   "outputs": [],
   "source": [
    "outputFolderPath = 'SplitData2'\n",
    "inputFolderPath = 'all2'\n",
    "splitRatio = {\"train\": 0.7, \"val\": 0.2, \"test\": 0.1}\n",
    "classes = [\"fake\",\"real\"]\n",
    "\n",
    "try:\n",
    "    shutil.rmtree(outputFolderPath)\n",
    "except OSError as e:\n",
    "    os.mkdir(outputFolderPath)"
   ]
  },
  {
   "cell_type": "code",
   "execution_count": 14,
   "metadata": {},
   "outputs": [],
   "source": [
    "#Directories to Create\n",
    "\n",
    "os.makedirs(f\"{outputFolderPath}/train/images\",exist_ok=True)\n",
    "os.makedirs(f\"{outputFolderPath}/train/labels\",exist_ok=True)\n",
    "os.makedirs(f\"{outputFolderPath}/val/images\",exist_ok=True)\n",
    "os.makedirs(f\"{outputFolderPath}/val/labels\",exist_ok=True)\n",
    "os.makedirs(f\"{outputFolderPath}/test/images\",exist_ok=True)\n",
    "os.makedirs(f\"{outputFolderPath}/test/labels\",exist_ok=True)"
   ]
  },
  {
   "cell_type": "code",
   "execution_count": 15,
   "metadata": {},
   "outputs": [
    {
     "name": "stdout",
     "output_type": "stream",
     "text": [
      "4471\n"
     ]
    }
   ],
   "source": [
    "# --------  Get the Names  -----------\n",
    "listNames = os.listdir(inputFolderPath)\n",
    "\n",
    "uniqueNames = []\n",
    "for name in listNames:\n",
    "    uniqueNames.append(name.split('.')[0])\n",
    "uniqueNames = list(set(uniqueNames))\n",
    "print(len(uniqueNames))"
   ]
  },
  {
   "cell_type": "code",
   "execution_count": 16,
   "metadata": {},
   "outputs": [],
   "source": [
    "#Shuffle \n",
    "\n",
    "random.shuffle(uniqueNames)"
   ]
  },
  {
   "cell_type": "code",
   "execution_count": 17,
   "metadata": {},
   "outputs": [],
   "source": [
    "lenData = len(uniqueNames)\n",
    "lenTrain = int(lenData * splitRatio['train'])\n",
    "lenVal = int(lenData * splitRatio['val'])\n",
    "lenTest = int(lenData * splitRatio['test'])"
   ]
  },
  {
   "cell_type": "code",
   "execution_count": 18,
   "metadata": {},
   "outputs": [
    {
     "name": "stdout",
     "output_type": "stream",
     "text": [
      "Total Image:4471 \n",
      "Split: 3130 894 447\n"
     ]
    }
   ],
   "source": [
    "#Put remaining images in Training\n",
    "\n",
    "if lenData != lenTrain + lenTest + lenVal:\n",
    "    remaining = lenData - (lenTrain + lenTest + lenVal)\n",
    "    lenTrain += remaining\n",
    "print(f'Total Image:{lenData} \\nSplit: {lenTrain} {lenVal} {lenTest}')"
   ]
  },
  {
   "cell_type": "code",
   "execution_count": 19,
   "metadata": {},
   "outputs": [
    {
     "name": "stdout",
     "output_type": "stream",
     "text": [
      "Total Images:4471 \n",
      "Split: 3130 894 447\n"
     ]
    }
   ],
   "source": [
    "#Split the list \n",
    "\n",
    "lengthToSplit = [lenTrain, lenVal, lenTest]\n",
    "Input = iter(uniqueNames)\n",
    "Output = [list(islice(Input, elem)) for elem in lengthToSplit]\n",
    "print(f'Total Images:{lenData} \\nSplit: {len(Output[0])} {len(Output[1])} {len(Output[2])}')"
   ]
  },
  {
   "cell_type": "code",
   "execution_count": 20,
   "metadata": {},
   "outputs": [
    {
     "name": "stderr",
     "output_type": "stream",
     "text": [
      "Copying train files:  64%|██████▍   | 2015/3130 [00:01<00:00, 1360.64it/s]"
     ]
    },
    {
     "name": "stdout",
     "output_type": "stream",
     "text": [
      "File not found: [Errno 2] No such file or directory: 'all2/1711317275341562.jpg'\n",
      "File not found: [Errno 2] No such file or directory: 'all2/171131814595304.txt'\n",
      "File not found: [Errno 2] No such file or directory: 'all2/1711317275446569.jpg'\n"
     ]
    },
    {
     "name": "stderr",
     "output_type": "stream",
     "text": [
      "Copying train files:  82%|████████▏ | 2568/3130 [00:01<00:00, 1335.52it/s]"
     ]
    },
    {
     "name": "stdout",
     "output_type": "stream",
     "text": [
      "File not found: [Errno 2] No such file or directory: 'all2/171131846419606.txt'\n"
     ]
    },
    {
     "name": "stderr",
     "output_type": "stream",
     "text": [
      "Copying train files:  91%|█████████ | 2855/3130 [00:02<00:00, 1376.84it/s]"
     ]
    },
    {
     "name": "stdout",
     "output_type": "stream",
     "text": [
      "File not found: [Errno 2] No such file or directory: 'all2/171131833566441.txt'\n",
      "File not found: [Errno 2] No such file or directory: 'all2/1711317275360031.jpg'\n",
      "File not found: [Errno 2] No such file or directory: 'all2/171131848024814.jpg'\n"
     ]
    },
    {
     "name": "stderr",
     "output_type": "stream",
     "text": [
      "Copying train files: 100%|██████████| 3130/3130 [00:02<00:00, 1384.34it/s]\n",
      "Copying val files:  49%|████▉     | 437/894 [00:00<00:00, 1280.66it/s]"
     ]
    },
    {
     "name": "stdout",
     "output_type": "stream",
     "text": [
      "File not found: [Errno 2] No such file or directory: 'all2/1711317275487197.jpg'\n",
      "File not found: [Errno 2] No such file or directory: 'all2/171131829702881.jpg'\n"
     ]
    },
    {
     "name": "stderr",
     "output_type": "stream",
     "text": [
      "Copying val files: 100%|██████████| 894/894 [00:00<00:00, 1328.62it/s]\n"
     ]
    },
    {
     "name": "stdout",
     "output_type": "stream",
     "text": [
      "File not found: [Errno 2] No such file or directory: 'all2/1711317275503628.jpg'\n",
      "File not found: [Errno 2] No such file or directory: 'all2/171131816428018.jpg'\n"
     ]
    },
    {
     "name": "stderr",
     "output_type": "stream",
     "text": [
      "Copying test files:  63%|██████▎   | 282/447 [00:00<00:00, 1402.82it/s]"
     ]
    },
    {
     "name": "stdout",
     "output_type": "stream",
     "text": [
      "File not found: [Errno 2] No such file or directory: 'all2/1711317275469239.jpg'\n"
     ]
    },
    {
     "name": "stderr",
     "output_type": "stream",
     "text": [
      "Copying test files: 100%|██████████| 447/447 [00:00<00:00, 1369.91it/s]\n"
     ]
    }
   ],
   "source": [
    "#Copy the files \n",
    "\n",
    "from tqdm import tqdm\n",
    "import shutil\n",
    "import os\n",
    "\n",
    "sequence = ['train', 'val', 'test']\n",
    "\n",
    "for i, out in enumerate(Output):\n",
    "    image_dir = f'{outputFolderPath}/{sequence[i]}/images'\n",
    "    label_dir = f'{outputFolderPath}/{sequence[i]}/labels'\n",
    "    \n",
    "    # Create directories if they don't exist\n",
    "    os.makedirs(image_dir, exist_ok=True)\n",
    "    os.makedirs(label_dir, exist_ok=True)\n",
    "\n",
    "    # Initialize the progress bar\n",
    "    with tqdm(total=len(out), desc=f'Copying {sequence[i]} files') as pbar:\n",
    "        for fileName in out:\n",
    "            jpg_src = f'{inputFolderPath}/{fileName}.jpg'\n",
    "            txt_src = f'{inputFolderPath}/{fileName}.txt'\n",
    "            jpg_dst = f'{image_dir}/{fileName}.jpg'\n",
    "            txt_dst = f'{label_dir}/{fileName}.txt'\n",
    "\n",
    "            try:\n",
    "                shutil.copy(jpg_src, jpg_dst)\n",
    "                shutil.copy(txt_src, txt_dst)\n",
    "            except FileNotFoundError as e:\n",
    "                print(f\"File not found: {e}\")\n",
    "            finally:\n",
    "                # Update progress bar regardless of success or failure\n",
    "                pbar.update(1)\n"
   ]
  },
  {
   "cell_type": "code",
   "execution_count": 10,
   "metadata": {},
   "outputs": [
    {
     "name": "stdout",
     "output_type": "stream",
     "text": [
      "Data.yaml file Created\n"
     ]
    }
   ],
   "source": [
    "#Creating Data.yaml file \n",
    "\n",
    "dataYaml = f'path: ../Data\\n\\\n",
    "train: ../train/images\\n\\\n",
    "val: ../val/images\\n\\\n",
    "test: ../test/images\\n\\\n",
    "\\n\\\n",
    "nc: {len(classes)}\\n\\\n",
    "names: {classes}'\n",
    "\n",
    "\n",
    "f = open (f\"{outputFolderPath}/data.yaml\", 'a')\n",
    "f.write(dataYaml)\n",
    "f.close()\n",
    "\n",
    "print(\"Data.yaml file Created\")"
   ]
  },
  {
   "cell_type": "code",
   "execution_count": null,
   "metadata": {},
   "outputs": [],
   "source": []
  }
 ],
 "metadata": {
  "kernelspec": {
   "display_name": "base",
   "language": "python",
   "name": "python3"
  },
  "language_info": {
   "codemirror_mode": {
    "name": "ipython",
    "version": 3
   },
   "file_extension": ".py",
   "mimetype": "text/x-python",
   "name": "python",
   "nbconvert_exporter": "python",
   "pygments_lexer": "ipython3",
   "version": "3.11.5"
  }
 },
 "nbformat": 4,
 "nbformat_minor": 2
}
